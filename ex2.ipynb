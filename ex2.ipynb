{
 "cells": [
  {
   "cell_type": "code",
   "execution_count": null,
   "id": "77924d5b",
   "metadata": {},
   "outputs": [],
   "source": [
    "import os\n",
    "import subprocess\n",
    "import pandas as pd\n",
    "import numpy as np\n",
    "import matplotlib.pyplot as plt\n",
    "from sklearn.ensemble import RandomForestClassifier\n",
    "from sklearn.metrics import classification_report\n",
    "from sklearn.model_selection import train_test_split\n",
    "from joblib import dump, load\n"
   ]
  },
  {
   "cell_type": "code",
   "execution_count": null,
   "id": "e9a60f7d",
   "metadata": {},
   "outputs": [],
   "source": [
    "df = pd.read_csv(\"./data/Exflows_team79.csv\")\n",
    "\n",
    "\n",
    "\n",
    "pd.set_option(\"display.max_rows\", None)\n"
   ]
  },
  {
   "cell_type": "code",
   "execution_count": 46,
   "id": "c806e3c3",
   "metadata": {},
   "outputs": [
    {
     "name": "stdout",
     "output_type": "stream",
     "text": [
      "<class 'pandas.core.frame.DataFrame'>\n",
      "RangeIndex: 208268 entries, 0 to 208267\n",
      "Data columns (total 24 columns):\n",
      " #   Column                               Non-Null Count   Dtype  \n",
      "---  ------                               --------------   -----  \n",
      " 0   flowStartSeconds                     208268 non-null  int64  \n",
      " 1   sourceIPAddress                      208268 non-null  object \n",
      " 2   distinct(destinationIPAddress)       208268 non-null  int64  \n",
      " 3   mode(destinationIPAddress)           208268 non-null  object \n",
      " 4   modeCount(destinationIPAddress)      208268 non-null  int64  \n",
      " 5   distinct(sourceTransportPort)        208268 non-null  int64  \n",
      " 6   mode(sourceTransportPort)            208235 non-null  float64\n",
      " 7   modeCount(sourceTransportPort)       208235 non-null  float64\n",
      " 8   distinct(destinationTransportPort)   208268 non-null  int64  \n",
      " 9   mode(destinationTransportPort)       208235 non-null  float64\n",
      " 10  modeCount(destinationTransportPort)  208235 non-null  float64\n",
      " 11  distinct(protocolIdentifier)         208268 non-null  int64  \n",
      " 12  mode(protocolIdentifier)             208268 non-null  int64  \n",
      " 13  modeCount(protocolIdentifier)        208268 non-null  int64  \n",
      " 14  distinct(ipTTL)                      208268 non-null  int64  \n",
      " 15  mode(ipTTL)                          208268 non-null  int64  \n",
      " 16  modeCount(ipTTL)                     208268 non-null  int64  \n",
      " 17  distinct(_tcpFlags)                  208268 non-null  int64  \n",
      " 18  mode(_tcpFlags)                      43418 non-null   object \n",
      " 19  modeCount(_tcpFlags)                 208268 non-null  int64  \n",
      " 20  distinct(octetTotalCount)            208268 non-null  int64  \n",
      " 21  mode(octetTotalCount)                208268 non-null  int64  \n",
      " 22  modeCount(octetTotalCount)           208268 non-null  int64  \n",
      " 23  packetTotalCount                     208268 non-null  int64  \n",
      "dtypes: float64(4), int64(17), object(3)\n",
      "memory usage: 38.1+ MB\n"
     ]
    }
   ],
   "source": [
    "df.info()"
   ]
  },
  {
   "cell_type": "code",
   "execution_count": 47,
   "id": "d5ac47c1",
   "metadata": {},
   "outputs": [
    {
     "name": "stdout",
     "output_type": "stream",
     "text": [
      "Index(['flowStartSeconds', 'sourceIPAddress', 'distinct(destinationIPAddress)',\n",
      "       'mode(destinationIPAddress)', 'modeCount(destinationIPAddress)',\n",
      "       'distinct(sourceTransportPort)', 'mode(sourceTransportPort)',\n",
      "       'modeCount(sourceTransportPort)', 'distinct(destinationTransportPort)',\n",
      "       'mode(destinationTransportPort)', 'modeCount(destinationTransportPort)',\n",
      "       'distinct(protocolIdentifier)', 'mode(protocolIdentifier)',\n",
      "       'modeCount(protocolIdentifier)', 'distinct(ipTTL)', 'mode(ipTTL)',\n",
      "       'modeCount(ipTTL)', 'distinct(_tcpFlags)', 'mode(_tcpFlags)',\n",
      "       'modeCount(_tcpFlags)', 'distinct(octetTotalCount)',\n",
      "       'mode(octetTotalCount)', 'modeCount(octetTotalCount)',\n",
      "       'packetTotalCount'],\n",
      "      dtype='object')\n"
     ]
    }
   ],
   "source": [
    "print(df.columns)\n",
    "\n",
    "columns = ['flowStartSeconds',\n",
    "       'distinct(sourceTransportPort)', 'mode(sourceTransportPort)',\n",
    "       'modeCount(sourceTransportPort)', 'distinct(destinationTransportPort)',\n",
    "       'mode(destinationTransportPort)', 'modeCount(destinationTransportPort)',\n",
    "       'distinct(protocolIdentifier)', 'mode(protocolIdentifier)',\n",
    "       'modeCount(protocolIdentifier)', 'distinct(ipTTL)', 'mode(ipTTL)',\n",
    "       'modeCount(ipTTL)', 'distinct(_tcpFlags)', 'mode(_tcpFlags)',\n",
    "       'modeCount(_tcpFlags)', 'distinct(octetTotalCount)',\n",
    "       'mode(octetTotalCount)', 'modeCount(octetTotalCount)',\n",
    "       'packetTotalCount']\n"
   ]
  },
  {
   "cell_type": "code",
   "execution_count": 48,
   "id": "21ef4c9c",
   "metadata": {},
   "outputs": [
    {
     "name": "stdout",
     "output_type": "stream",
     "text": [
      "['flowStartSeconds', 'distinct(sourceTransportPort)', 'mode(sourceTransportPort)', 'modeCount(sourceTransportPort)', 'distinct(destinationTransportPort)', 'mode(destinationTransportPort)', 'modeCount(destinationTransportPort)', 'distinct(protocolIdentifier)', 'mode(protocolIdentifier)', 'modeCount(protocolIdentifier)', 'distinct(ipTTL)', 'mode(ipTTL)', 'modeCount(ipTTL)', 'distinct(_tcpFlags)', 'mode(_tcpFlags)', 'modeCount(_tcpFlags)', 'distinct(octetTotalCount)', 'mode(octetTotalCount)', 'modeCount(octetTotalCount)', 'packetTotalCount']\n"
     ]
    }
   ],
   "source": [
    "print(columns)"
   ]
  },
  {
   "cell_type": "code",
   "execution_count": 49,
   "id": "181ad03e",
   "metadata": {},
   "outputs": [],
   "source": [
    "df = df.drop(labels=None, axis=1, columns=columns)\n"
   ]
  },
  {
   "cell_type": "code",
   "execution_count": 50,
   "id": "8769a15e",
   "metadata": {},
   "outputs": [
    {
     "name": "stdout",
     "output_type": "stream",
     "text": [
      "<class 'pandas.core.frame.DataFrame'>\n",
      "RangeIndex: 208268 entries, 0 to 208267\n",
      "Data columns (total 4 columns):\n",
      " #   Column                           Non-Null Count   Dtype \n",
      "---  ------                           --------------   ----- \n",
      " 0   sourceIPAddress                  208268 non-null  object\n",
      " 1   distinct(destinationIPAddress)   208268 non-null  int64 \n",
      " 2   mode(destinationIPAddress)       208268 non-null  object\n",
      " 3   modeCount(destinationIPAddress)  208268 non-null  int64 \n",
      "dtypes: int64(2), object(2)\n",
      "memory usage: 6.4+ MB\n"
     ]
    }
   ],
   "source": [
    "df.info()"
   ]
  },
  {
   "cell_type": "code",
   "execution_count": 51,
   "id": "1a2c8601",
   "metadata": {},
   "outputs": [
    {
     "data": {
      "text/html": [
       "<div>\n",
       "<style scoped>\n",
       "    .dataframe tbody tr th:only-of-type {\n",
       "        vertical-align: middle;\n",
       "    }\n",
       "\n",
       "    .dataframe tbody tr th {\n",
       "        vertical-align: top;\n",
       "    }\n",
       "\n",
       "    .dataframe thead th {\n",
       "        text-align: right;\n",
       "    }\n",
       "</style>\n",
       "<table border=\"1\" class=\"dataframe\">\n",
       "  <thead>\n",
       "    <tr style=\"text-align: right;\">\n",
       "      <th></th>\n",
       "      <th>sourceIPAddress</th>\n",
       "      <th>distinct(destinationIPAddress)</th>\n",
       "      <th>mode(destinationIPAddress)</th>\n",
       "      <th>modeCount(destinationIPAddress)</th>\n",
       "    </tr>\n",
       "  </thead>\n",
       "  <tbody>\n",
       "    <tr>\n",
       "      <th>0</th>\n",
       "      <td>1.95.231.120</td>\n",
       "      <td>1</td>\n",
       "      <td>203.74.52.109</td>\n",
       "      <td>1</td>\n",
       "    </tr>\n",
       "    <tr>\n",
       "      <th>1</th>\n",
       "      <td>108.113.157.98</td>\n",
       "      <td>1</td>\n",
       "      <td>203.74.52.109</td>\n",
       "      <td>1</td>\n",
       "    </tr>\n",
       "    <tr>\n",
       "      <th>2</th>\n",
       "      <td>84.52.85.74</td>\n",
       "      <td>1</td>\n",
       "      <td>203.74.52.109</td>\n",
       "      <td>1</td>\n",
       "    </tr>\n",
       "    <tr>\n",
       "      <th>3</th>\n",
       "      <td>60.215.126.250</td>\n",
       "      <td>1</td>\n",
       "      <td>202.6.244.134</td>\n",
       "      <td>1</td>\n",
       "    </tr>\n",
       "    <tr>\n",
       "      <th>4</th>\n",
       "      <td>104.12.139.232</td>\n",
       "      <td>1</td>\n",
       "      <td>203.74.52.109</td>\n",
       "      <td>1</td>\n",
       "    </tr>\n",
       "  </tbody>\n",
       "</table>\n",
       "</div>"
      ],
      "text/plain": [
       "  sourceIPAddress  distinct(destinationIPAddress) mode(destinationIPAddress)  \\\n",
       "0    1.95.231.120                               1              203.74.52.109   \n",
       "1  108.113.157.98                               1              203.74.52.109   \n",
       "2     84.52.85.74                               1              203.74.52.109   \n",
       "3  60.215.126.250                               1              202.6.244.134   \n",
       "4  104.12.139.232                               1              203.74.52.109   \n",
       "\n",
       "   modeCount(destinationIPAddress)  \n",
       "0                                1  \n",
       "1                                1  \n",
       "2                                1  \n",
       "3                                1  \n",
       "4                                1  "
      ]
     },
     "execution_count": 51,
     "metadata": {},
     "output_type": "execute_result"
    }
   ],
   "source": [
    "df.head(5)"
   ]
  },
  {
   "cell_type": "code",
   "execution_count": 64,
   "id": "f63d3bfd",
   "metadata": {},
   "outputs": [],
   "source": [
    "\n",
    "\n",
    "# 2) for each source IP, get its 'distinct(destinationIPAddress)' value\n",
    "#    (this is already one row per flow, keyed by sourceIPAddress)\n",
    "#    so we can directly count how many flows have exactly 1 dest, >10 dest\n",
    "total_sources = len(df)\n",
    "\n",
    "# But if the CSV already has one row per source IP (as AGM defines one vector per source),\n",
    "# you can just do:\n",
    "dest_counts = df[\"distinct(destinationIPAddress)\"]\n",
    "\n",
    "\n"
   ]
  },
  {
   "cell_type": "code",
   "execution_count": 65,
   "id": "7536a20b",
   "metadata": {},
   "outputs": [
    {
     "name": "stdout",
     "output_type": "stream",
     "text": [
      "208268\n"
     ]
    }
   ],
   "source": [
    "print(total_sources)"
   ]
  },
  {
   "cell_type": "code",
   "execution_count": 1,
   "id": "d2b056b3",
   "metadata": {},
   "outputs": [
    {
     "ename": "NameError",
     "evalue": "name 'dest_counts' is not defined",
     "output_type": "error",
     "traceback": [
      "\u001b[0;31m---------------------------------------------------------------------------\u001b[0m",
      "\u001b[0;31mNameError\u001b[0m                                 Traceback (most recent call last)",
      "Cell \u001b[0;32mIn[1], line 2\u001b[0m\n\u001b[1;32m      1\u001b[0m \u001b[38;5;66;03m# (a) fraction with exactly one destination\u001b[39;00m\n\u001b[0;32m----> 2\u001b[0m num_one \u001b[38;5;241m=\u001b[39m (\u001b[43mdest_counts\u001b[49m \u001b[38;5;241m==\u001b[39m \u001b[38;5;241m1\u001b[39m)\u001b[38;5;241m.\u001b[39msum()\n\u001b[1;32m      4\u001b[0m \u001b[38;5;66;03m# (b) fraction with more than ten destinations\u001b[39;00m\n\u001b[1;32m      5\u001b[0m num_gt10 \u001b[38;5;241m=\u001b[39m (dest_counts \u001b[38;5;241m>\u001b[39m \u001b[38;5;241m10\u001b[39m)\u001b[38;5;241m.\u001b[39msum()\n",
      "\u001b[0;31mNameError\u001b[0m: name 'dest_counts' is not defined"
     ]
    }
   ],
   "source": [
    "# (a) fraction with exactly one destination\n",
    "num_one = (dest_counts == 1).sum()\n",
    "\n",
    "# (b) fraction with more than ten destinations\n",
    "num_gt10 = (dest_counts > 10).sum()\n",
    "\n",
    "# 3) compute percentages\n",
    "pct_one = 100 * num_one / total_sources\n",
    "pct_gt10 = 100 * num_gt10 / total_sources\n",
    "\n",
    "# 4) round to one decimal\n",
    "rep_13a = round(pct_one, 1)\n",
    "rep_13b = round(pct_gt10, 1)\n",
    "\n",
    "print(f'rep-13a: {rep_13a}%')\n",
    "print(f'rep-13b: {rep_13b}%')"
   ]
  },
  {
   "cell_type": "code",
   "execution_count": null,
   "id": "37795cee",
   "metadata": {},
   "outputs": [],
   "source": [
    "aggregates = pd.read_csv(\"./data/aggStats_team79.csv\")\n"
   ]
  },
  {
   "cell_type": "code",
   "execution_count": 6,
   "id": "3ebabda1",
   "metadata": {},
   "outputs": [
    {
     "data": {
      "text/html": [
       "<div>\n",
       "<style scoped>\n",
       "    .dataframe tbody tr th:only-of-type {\n",
       "        vertical-align: middle;\n",
       "    }\n",
       "\n",
       "    .dataframe tbody tr th {\n",
       "        vertical-align: top;\n",
       "    }\n",
       "\n",
       "    .dataframe thead th {\n",
       "        text-align: right;\n",
       "    }\n",
       "</style>\n",
       "<table border=\"1\" class=\"dataframe\">\n",
       "  <thead>\n",
       "    <tr style=\"text-align: right;\">\n",
       "      <th></th>\n",
       "      <th>packetTotalCount</th>\n",
       "      <th>distinct(sourceIPAddress)</th>\n",
       "      <th>ipTotalLength</th>\n",
       "    </tr>\n",
       "  </thead>\n",
       "  <tbody>\n",
       "    <tr>\n",
       "      <th>0</th>\n",
       "      <td>49311</td>\n",
       "      <td>8700</td>\n",
       "      <td>11912888</td>\n",
       "    </tr>\n",
       "    <tr>\n",
       "      <th>1</th>\n",
       "      <td>49890</td>\n",
       "      <td>8943</td>\n",
       "      <td>11266131</td>\n",
       "    </tr>\n",
       "    <tr>\n",
       "      <th>2</th>\n",
       "      <td>48046</td>\n",
       "      <td>8850</td>\n",
       "      <td>9718263</td>\n",
       "    </tr>\n",
       "    <tr>\n",
       "      <th>3</th>\n",
       "      <td>52734</td>\n",
       "      <td>8574</td>\n",
       "      <td>16014958</td>\n",
       "    </tr>\n",
       "    <tr>\n",
       "      <th>4</th>\n",
       "      <td>57691</td>\n",
       "      <td>8864</td>\n",
       "      <td>21257404</td>\n",
       "    </tr>\n",
       "  </tbody>\n",
       "</table>\n",
       "</div>"
      ],
      "text/plain": [
       "   packetTotalCount  distinct(sourceIPAddress)  ipTotalLength\n",
       "0             49311                       8700       11912888\n",
       "1             49890                       8943       11266131\n",
       "2             48046                       8850        9718263\n",
       "3             52734                       8574       16014958\n",
       "4             57691                       8864       21257404"
      ]
     },
     "execution_count": 6,
     "metadata": {},
     "output_type": "execute_result"
    }
   ],
   "source": [
    "aggregates.head()"
   ]
  },
  {
   "cell_type": "code",
   "execution_count": 8,
   "id": "0252226d",
   "metadata": {},
   "outputs": [
    {
     "name": "stdout",
     "output_type": "stream",
     "text": [
      "<class 'pandas.core.frame.DataFrame'>\n",
      "RangeIndex: 30 entries, 0 to 29\n",
      "Data columns (total 3 columns):\n",
      " #   Column                     Non-Null Count  Dtype\n",
      "---  ------                     --------------  -----\n",
      " 0   packetTotalCount           30 non-null     int64\n",
      " 1   distinct(sourceIPAddress)  30 non-null     int64\n",
      " 2   ipTotalLength              30 non-null     int64\n",
      "dtypes: int64(3)\n",
      "memory usage: 848.0 bytes\n"
     ]
    }
   ],
   "source": [
    "aggregates.info()"
   ]
  },
  {
   "cell_type": "code",
   "execution_count": 25,
   "id": "639dd33f",
   "metadata": {},
   "outputs": [
    {
     "data": {
      "image/png": "[encoded data removed]",
      "text/plain": [
       "<Figure size 600x800 with 3 Axes>"
      ]
     },
     "metadata": {},
     "output_type": "display_data"
    }
   ],
   "source": [
    "fig, axes = plt.subplots(nrows=3, figsize=(6, 8), layout='constrained')\n",
    "\n",
    "axes[0].bar(aggregates.index, aggregates['packetTotalCount'], width=0.2, bottom=1)\n",
    "axes[0].set_title(\"Packets per Second\")\n",
    "axes[0].set_ylabel(\"Packets\")\n",
    "\n",
    "axes[1].bar(aggregates.index, aggregates['distinct(sourceIPAddress)'], width=0.2)\n",
    "axes[1].set_title(\"Unique Sources per Second\")\n",
    "axes[1].set_ylabel(\"Sources\")\n",
    "\n",
    "axes[2].bar(aggregates.index, aggregates['ipTotalLength'], width=0.2)\n",
    "axes[2].set_title(\"Bytes per Second\")\n",
    "axes[2].set_ylabel(\"Bytes\")\n",
    "axes[2].set_xlabel(\"Time (s)\")\n",
    "\n",
    "plt.show()\n"
   ]
  },
  {
   "cell_type": "code",
   "execution_count": 77,
   "id": "b6d82a8d",
   "metadata": {},
   "outputs": [],
   "source": [
    "import math\n",
    "\n",
    "def returnStatistics(df):\n",
    "    for col in df.columns:\n",
    "        series = df[col]\n",
    "        values = series.dropna().tolist()\n",
    "        n = len(values)\n",
    "        mean = sum(values) / n\n",
    "        median = sorted(values)[n // 2] if n % 2 == 1 else (sorted(values)[n // 2 - 1] + sorted(values)[n // 2]) / 2\n",
    "        \n",
    "        # Population standard deviation (your formula)\n",
    "        squared_diffs = [(x - mean) ** 2 for x in values]\n",
    "        std = math.sqrt(sum(squared_diffs) / n)\n",
    "\n",
    "        print(f\"\\nColumn: {col}\")\n",
    "        print(f\"  Mean   : {mean:.1f}\")\n",
    "        print(f\"  Median : {median:.1f}\")\n",
    "        print(f\"  Std Dev: {std:.1f}\")\n"
   ]
  },
  {
   "cell_type": "code",
   "execution_count": 78,
   "id": "7e7e9e0b",
   "metadata": {},
   "outputs": [
    {
     "name": "stdout",
     "output_type": "stream",
     "text": [
      "\n",
      "Column: packetTotalCount\n",
      "  Mean   : 53640.7\n",
      "  Median : 54282.5\n",
      "  Std Dev: 3083.1\n",
      "\n",
      "Column: distinct(sourceIPAddress)\n",
      "  Mean   : 8813.5\n",
      "  Median : 8830.0\n",
      "  Std Dev: 134.0\n",
      "\n",
      "Column: ipTotalLength\n",
      "  Mean   : 15457954.6\n",
      "  Median : 15083116.5\n",
      "  Std Dev: 4141170.2\n"
     ]
    }
   ],
   "source": [
    "returnStatistics(aggregates)"
   ]
  }
 ],
 "metadata": {
  "kernelspec": {
   "display_name": "net-venv",
   "language": "python",
   "name": "python3"
  },
  "language_info": {
   "codemirror_mode": {
    "name": "ipython",
    "version": 3
   },
   "file_extension": ".py",
   "mimetype": "text/x-python",
   "name": "python",
   "nbconvert_exporter": "python",
   "pygments_lexer": "ipython3",
   "version": "3.10.0"
  }
 },
 "nbformat": 4,
 "nbformat_minor": 5
}
